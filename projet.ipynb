{
  "nbformat": 4,
  "nbformat_minor": 0,
  "metadata": {
    "colab": {
      "name": "projet.ipynb",
      "provenance": [],
      "collapsed_sections": [
        "4mPOZcl50FYF",
        "m7H3WKJeZXzZ",
        "wGmf-DIH-1P0"
      ],
      "toc_visible": true,
      "include_colab_link": true
    },
    "kernelspec": {
      "name": "python3",
      "display_name": "Python 3"
    },
    "accelerator": "GPU"
  },
  "cells": [
    {
      "cell_type": "markdown",
      "metadata": {
        "id": "view-in-github",
        "colab_type": "text"
      },
      "source": [
        "<a href=\"https://colab.research.google.com/github/Gladybams/Projet_recidive/blob/master/projet.ipynb\" target=\"_parent\"><img src=\"https://colab.research.google.com/assets/colab-badge.svg\" alt=\"Open In Colab\"/></a>"
      ]
    },
    {
      "cell_type": "markdown",
      "metadata": {
        "id": "zVsX8HyzD3Kg",
        "colab_type": "text"
      },
      "source": [
        "# PROJET \n",
        "## Prevenir les cas de recidive grace à data science"
      ]
    },
    {
      "cell_type": "markdown",
      "metadata": {
        "id": "dvSLVH2eD9GG",
        "colab_type": "text"
      },
      "source": [
        "## Problematiques\n",
        "*1. Quelle méthode de machine Learning nous fournit la meilleure prédiction possible?*\n",
        "\n",
        "*2. Existe-t-il une corrélation significative entre la classe de l'infraction initiale et la classe de récidive? L'hypothèse nulle en ce sens est qu'il n'y a en moyenne aucune différence statistiquement significative entre la classe de l'infraction initiale et la classe de la récidive. L'hypothèse alternative serait l'existence d'une agression dans la classe du crime commis.*"
      ]
    },
    {
      "cell_type": "markdown",
      "metadata": {
        "id": "0hWR4ZhPEw0B",
        "colab_type": "text"
      },
      "source": [
        "### On importe les librairies usuelles "
      ]
    },
    {
      "cell_type": "code",
      "metadata": {
        "id": "HLGNLgBUreB6",
        "colab_type": "code",
        "colab": {}
      },
      "source": [
        "from sklearn.preprocessing import StandardScaler\n",
        "import matplotlib.pyplot as plt \n",
        "import numpy as np \n",
        "import os\n",
        "import pandas as pd\n",
        "import seaborn as sns\n",
        "from sklearn.metrics import precision_score, recall_score, f1_score"
      ],
      "execution_count": 0,
      "outputs": []
    },
    {
      "cell_type": "code",
      "metadata": {
        "id": "8f2NJc2wsKM8",
        "colab_type": "code",
        "colab": {}
      },
      "source": [
        "data1 = pd.read_csv(\"3_year_recidivism_elaborated_2.csv\")\n",
        "data2 = pd.read_csv(\"prison_recidivists.csv\")"
      ],
      "execution_count": 0,
      "outputs": []
    },
    {
      "cell_type": "markdown",
      "metadata": {
        "id": "mEc2uoDUur1R",
        "colab_type": "text"
      },
      "source": [
        "## Preprocessing"
      ]
    },
    {
      "cell_type": "code",
      "metadata": {
        "id": "3i-i2gSKsTgi",
        "colab_type": "code",
        "outputId": "fb043d7b-9db8-4fd0-f3d0-eda05d37e448",
        "colab": {
          "base_uri": "https://localhost:8080/",
          "height": 842
        }
      },
      "source": [
        "data1"
      ],
      "execution_count": 0,
      "outputs": [
        {
          "output_type": "execute_result",
          "data": {
            "text/html": [
              "<div>\n",
              "<style scoped>\n",
              "    .dataframe tbody tr th:only-of-type {\n",
              "        vertical-align: middle;\n",
              "    }\n",
              "\n",
              "    .dataframe tbody tr th {\n",
              "        vertical-align: top;\n",
              "    }\n",
              "\n",
              "    .dataframe thead th {\n",
              "        text-align: right;\n",
              "    }\n",
              "</style>\n",
              "<table border=\"1\" class=\"dataframe\">\n",
              "  <thead>\n",
              "    <tr style=\"text-align: right;\">\n",
              "      <th></th>\n",
              "      <th>Fiscal Year Released</th>\n",
              "      <th>Recidivism Reporting Year</th>\n",
              "      <th>Race - Ethnicity</th>\n",
              "      <th>Age At Release</th>\n",
              "      <th>Convicting Offense Classification</th>\n",
              "      <th>Convicting Offense Type</th>\n",
              "      <th>Main Supervising District</th>\n",
              "      <th>Release type: Paroled to Detainer united</th>\n",
              "      <th>Part of Target Population</th>\n",
              "      <th>Recidivism - Return to Prison numeric</th>\n",
              "    </tr>\n",
              "  </thead>\n",
              "  <tbody>\n",
              "    <tr>\n",
              "      <th>0</th>\n",
              "      <td>2010</td>\n",
              "      <td>2013</td>\n",
              "      <td>White - Non-Hispanic</td>\n",
              "      <td>Under 25</td>\n",
              "      <td>D Felony</td>\n",
              "      <td>Violent</td>\n",
              "      <td>4JD</td>\n",
              "      <td>Parole</td>\n",
              "      <td>Yes</td>\n",
              "      <td>1</td>\n",
              "    </tr>\n",
              "    <tr>\n",
              "      <th>1</th>\n",
              "      <td>2010</td>\n",
              "      <td>2013</td>\n",
              "      <td>White - Non-Hispanic</td>\n",
              "      <td>55 and Older</td>\n",
              "      <td>D Felony</td>\n",
              "      <td>Public Order</td>\n",
              "      <td>7JD</td>\n",
              "      <td>Parole</td>\n",
              "      <td>Yes</td>\n",
              "      <td>1</td>\n",
              "    </tr>\n",
              "    <tr>\n",
              "      <th>2</th>\n",
              "      <td>2010</td>\n",
              "      <td>2013</td>\n",
              "      <td>White - Non-Hispanic</td>\n",
              "      <td>25-34</td>\n",
              "      <td>D Felony</td>\n",
              "      <td>Property</td>\n",
              "      <td>5JD</td>\n",
              "      <td>Parole</td>\n",
              "      <td>Yes</td>\n",
              "      <td>1</td>\n",
              "    </tr>\n",
              "    <tr>\n",
              "      <th>3</th>\n",
              "      <td>2010</td>\n",
              "      <td>2013</td>\n",
              "      <td>White - Non-Hispanic</td>\n",
              "      <td>55 and Older</td>\n",
              "      <td>C Felony</td>\n",
              "      <td>Drug</td>\n",
              "      <td>8JD</td>\n",
              "      <td>Parole</td>\n",
              "      <td>Yes</td>\n",
              "      <td>1</td>\n",
              "    </tr>\n",
              "    <tr>\n",
              "      <th>4</th>\n",
              "      <td>2010</td>\n",
              "      <td>2013</td>\n",
              "      <td>Black - Non-Hispanic</td>\n",
              "      <td>25-34</td>\n",
              "      <td>D Felony</td>\n",
              "      <td>Drug</td>\n",
              "      <td>3JD</td>\n",
              "      <td>Parole</td>\n",
              "      <td>Yes</td>\n",
              "      <td>1</td>\n",
              "    </tr>\n",
              "    <tr>\n",
              "      <th>...</th>\n",
              "      <td>...</td>\n",
              "      <td>...</td>\n",
              "      <td>...</td>\n",
              "      <td>...</td>\n",
              "      <td>...</td>\n",
              "      <td>...</td>\n",
              "      <td>...</td>\n",
              "      <td>...</td>\n",
              "      <td>...</td>\n",
              "      <td>...</td>\n",
              "    </tr>\n",
              "    <tr>\n",
              "      <th>26015</th>\n",
              "      <td>2015</td>\n",
              "      <td>2018</td>\n",
              "      <td>White - Hispanic</td>\n",
              "      <td>25-34</td>\n",
              "      <td>C Felony</td>\n",
              "      <td>Violent</td>\n",
              "      <td>Not Mentioned</td>\n",
              "      <td>Discharged End of Sentence</td>\n",
              "      <td>Yes</td>\n",
              "      <td>0</td>\n",
              "    </tr>\n",
              "    <tr>\n",
              "      <th>26016</th>\n",
              "      <td>2015</td>\n",
              "      <td>2018</td>\n",
              "      <td>White - Non-Hispanic</td>\n",
              "      <td>25-34</td>\n",
              "      <td>D Felony</td>\n",
              "      <td>Property</td>\n",
              "      <td>5JD</td>\n",
              "      <td>Paroled to Detainer</td>\n",
              "      <td>No</td>\n",
              "      <td>0</td>\n",
              "    </tr>\n",
              "    <tr>\n",
              "      <th>26017</th>\n",
              "      <td>2015</td>\n",
              "      <td>2018</td>\n",
              "      <td>Black - Non-Hispanic</td>\n",
              "      <td>Under 25</td>\n",
              "      <td>Aggravated Misdemeanor</td>\n",
              "      <td>Violent</td>\n",
              "      <td>1JD</td>\n",
              "      <td>Discharged End of Sentence</td>\n",
              "      <td>Yes</td>\n",
              "      <td>0</td>\n",
              "    </tr>\n",
              "    <tr>\n",
              "      <th>26018</th>\n",
              "      <td>2015</td>\n",
              "      <td>2018</td>\n",
              "      <td>White - Non-Hispanic</td>\n",
              "      <td>Under 25</td>\n",
              "      <td>D Felony</td>\n",
              "      <td>Drug</td>\n",
              "      <td>5JD</td>\n",
              "      <td>Parole</td>\n",
              "      <td>No</td>\n",
              "      <td>0</td>\n",
              "    </tr>\n",
              "    <tr>\n",
              "      <th>26019</th>\n",
              "      <td>2015</td>\n",
              "      <td>2018</td>\n",
              "      <td>White - Non-Hispanic</td>\n",
              "      <td>35-44</td>\n",
              "      <td>C Felony</td>\n",
              "      <td>Violent</td>\n",
              "      <td>Not Mentioned</td>\n",
              "      <td>Parole</td>\n",
              "      <td>No</td>\n",
              "      <td>0</td>\n",
              "    </tr>\n",
              "  </tbody>\n",
              "</table>\n",
              "<p>26020 rows × 10 columns</p>\n",
              "</div>"
            ],
            "text/plain": [
              "       Fiscal Year Released  ...  Recidivism - Return to Prison numeric\n",
              "0                      2010  ...                                      1\n",
              "1                      2010  ...                                      1\n",
              "2                      2010  ...                                      1\n",
              "3                      2010  ...                                      1\n",
              "4                      2010  ...                                      1\n",
              "...                     ...  ...                                    ...\n",
              "26015                  2015  ...                                      0\n",
              "26016                  2015  ...                                      0\n",
              "26017                  2015  ...                                      0\n",
              "26018                  2015  ...                                      0\n",
              "26019                  2015  ...                                      0\n",
              "\n",
              "[26020 rows x 10 columns]"
            ]
          },
          "metadata": {
            "tags": []
          },
          "execution_count": 119
        }
      ]
    },
    {
      "cell_type": "code",
      "metadata": {
        "id": "VIjPolASp33s",
        "colab_type": "code",
        "outputId": "31447623-eb10-4b1e-ee14-aff2c2743ed6",
        "colab": {
          "base_uri": "https://localhost:8080/",
          "height": 859
        }
      },
      "source": [
        "data2"
      ],
      "execution_count": 0,
      "outputs": [
        {
          "output_type": "execute_result",
          "data": {
            "text/html": [
              "<div>\n",
              "<style scoped>\n",
              "    .dataframe tbody tr th:only-of-type {\n",
              "        vertical-align: middle;\n",
              "    }\n",
              "\n",
              "    .dataframe tbody tr th {\n",
              "        vertical-align: top;\n",
              "    }\n",
              "\n",
              "    .dataframe thead th {\n",
              "        text-align: right;\n",
              "    }\n",
              "</style>\n",
              "<table border=\"1\" class=\"dataframe\">\n",
              "  <thead>\n",
              "    <tr style=\"text-align: right;\">\n",
              "      <th></th>\n",
              "      <th>Fiscal Year Released</th>\n",
              "      <th>Recidivism Reporting Year</th>\n",
              "      <th>Race - Ethnicity</th>\n",
              "      <th>Age At Release</th>\n",
              "      <th>Convicting Offense Classification</th>\n",
              "      <th>Convicting Offense Type</th>\n",
              "      <th>Convicting Offense Subtype</th>\n",
              "      <th>Release Type</th>\n",
              "      <th>Part of Target Population</th>\n",
              "      <th>Main Supervising District</th>\n",
              "      <th>Recidivism - Return to Prison</th>\n",
              "      <th>Release Type.1</th>\n",
              "      <th>Days to Recidivism</th>\n",
              "      <th>New Conviction Offense Classification</th>\n",
              "      <th>New Conviction Offense Type</th>\n",
              "      <th>New Conviction Offense Sub Type</th>\n",
              "    </tr>\n",
              "  </thead>\n",
              "  <tbody>\n",
              "    <tr>\n",
              "      <th>0</th>\n",
              "      <td>2010</td>\n",
              "      <td>2013</td>\n",
              "      <td>White - Non-Hispanic</td>\n",
              "      <td>45-54</td>\n",
              "      <td>Aggravated Misdemeanor</td>\n",
              "      <td>Public Order</td>\n",
              "      <td>Sex Offender Registry/Residency</td>\n",
              "      <td>Parole</td>\n",
              "      <td>Yes</td>\n",
              "      <td>3JD</td>\n",
              "      <td>Yes</td>\n",
              "      <td>Parole</td>\n",
              "      <td>28</td>\n",
              "      <td>D Felony</td>\n",
              "      <td>Property</td>\n",
              "      <td>Theft</td>\n",
              "    </tr>\n",
              "    <tr>\n",
              "      <th>1</th>\n",
              "      <td>2010</td>\n",
              "      <td>2013</td>\n",
              "      <td>White - Non-Hispanic</td>\n",
              "      <td>Under 25</td>\n",
              "      <td>Aggravated Misdemeanor</td>\n",
              "      <td>Property</td>\n",
              "      <td>Theft</td>\n",
              "      <td>Discharged End of Sentence</td>\n",
              "      <td>No</td>\n",
              "      <td>NaN</td>\n",
              "      <td>Yes</td>\n",
              "      <td>Discharged End of Sentence</td>\n",
              "      <td>49</td>\n",
              "      <td>C Felony</td>\n",
              "      <td>Property</td>\n",
              "      <td>Theft</td>\n",
              "    </tr>\n",
              "    <tr>\n",
              "      <th>2</th>\n",
              "      <td>2010</td>\n",
              "      <td>2013</td>\n",
              "      <td>White - Non-Hispanic</td>\n",
              "      <td>Under 25</td>\n",
              "      <td>D Felony</td>\n",
              "      <td>Drug</td>\n",
              "      <td>Trafficking</td>\n",
              "      <td>Parole</td>\n",
              "      <td>Yes</td>\n",
              "      <td>4JD</td>\n",
              "      <td>Yes</td>\n",
              "      <td>Parole</td>\n",
              "      <td>53</td>\n",
              "      <td>Aggravated Misdemeanor</td>\n",
              "      <td>Public Order</td>\n",
              "      <td>OWI</td>\n",
              "    </tr>\n",
              "    <tr>\n",
              "      <th>3</th>\n",
              "      <td>2010</td>\n",
              "      <td>2013</td>\n",
              "      <td>American Indian or Alaska Native - Non-Hispanic</td>\n",
              "      <td>25-34</td>\n",
              "      <td>D Felony</td>\n",
              "      <td>Violent</td>\n",
              "      <td>Assault</td>\n",
              "      <td>Discharged End of Sentence</td>\n",
              "      <td>No</td>\n",
              "      <td>NaN</td>\n",
              "      <td>Yes</td>\n",
              "      <td>Discharged End of Sentence</td>\n",
              "      <td>57</td>\n",
              "      <td>C Felony</td>\n",
              "      <td>Violent</td>\n",
              "      <td>Robbery</td>\n",
              "    </tr>\n",
              "    <tr>\n",
              "      <th>4</th>\n",
              "      <td>2010</td>\n",
              "      <td>2013</td>\n",
              "      <td>White - Non-Hispanic</td>\n",
              "      <td>Under 25</td>\n",
              "      <td>D Felony</td>\n",
              "      <td>Property</td>\n",
              "      <td>Vandalism</td>\n",
              "      <td>Parole</td>\n",
              "      <td>Yes</td>\n",
              "      <td>2JD</td>\n",
              "      <td>Yes</td>\n",
              "      <td>Parole</td>\n",
              "      <td>58</td>\n",
              "      <td>Aggravated Misdemeanor</td>\n",
              "      <td>Public Order</td>\n",
              "      <td>Alcohol</td>\n",
              "    </tr>\n",
              "    <tr>\n",
              "      <th>...</th>\n",
              "      <td>...</td>\n",
              "      <td>...</td>\n",
              "      <td>...</td>\n",
              "      <td>...</td>\n",
              "      <td>...</td>\n",
              "      <td>...</td>\n",
              "      <td>...</td>\n",
              "      <td>...</td>\n",
              "      <td>...</td>\n",
              "      <td>...</td>\n",
              "      <td>...</td>\n",
              "      <td>...</td>\n",
              "      <td>...</td>\n",
              "      <td>...</td>\n",
              "      <td>...</td>\n",
              "      <td>...</td>\n",
              "    </tr>\n",
              "    <tr>\n",
              "      <th>6713</th>\n",
              "      <td>2015</td>\n",
              "      <td>2018</td>\n",
              "      <td>White - Non-Hispanic</td>\n",
              "      <td>35-44</td>\n",
              "      <td>D Felony</td>\n",
              "      <td>Property</td>\n",
              "      <td>Forgery/Fraud</td>\n",
              "      <td>Discharged End of Sentence</td>\n",
              "      <td>No</td>\n",
              "      <td>8JD</td>\n",
              "      <td>Yes</td>\n",
              "      <td>Discharged End of Sentence</td>\n",
              "      <td>1088</td>\n",
              "      <td>C Felony</td>\n",
              "      <td>Drug</td>\n",
              "      <td>Trafficking</td>\n",
              "    </tr>\n",
              "    <tr>\n",
              "      <th>6714</th>\n",
              "      <td>2015</td>\n",
              "      <td>2018</td>\n",
              "      <td>Black - Non-Hispanic</td>\n",
              "      <td>Under 25</td>\n",
              "      <td>D Felony</td>\n",
              "      <td>Drug</td>\n",
              "      <td>Trafficking</td>\n",
              "      <td>Paroled to Detainer - Iowa</td>\n",
              "      <td>Yes</td>\n",
              "      <td>2JD</td>\n",
              "      <td>Yes</td>\n",
              "      <td>Paroled to Detainer - Iowa</td>\n",
              "      <td>1091</td>\n",
              "      <td>Aggravated Misdemeanor</td>\n",
              "      <td>Violent</td>\n",
              "      <td>Assault</td>\n",
              "    </tr>\n",
              "    <tr>\n",
              "      <th>6715</th>\n",
              "      <td>2015</td>\n",
              "      <td>2018</td>\n",
              "      <td>White - Non-Hispanic</td>\n",
              "      <td>45-54</td>\n",
              "      <td>D Felony</td>\n",
              "      <td>Property</td>\n",
              "      <td>Theft</td>\n",
              "      <td>Discharged End of Sentence</td>\n",
              "      <td>Yes</td>\n",
              "      <td>2JD</td>\n",
              "      <td>Yes</td>\n",
              "      <td>Discharged End of Sentence</td>\n",
              "      <td>1092</td>\n",
              "      <td>Aggravated Misdemeanor</td>\n",
              "      <td>Drug</td>\n",
              "      <td>Drug Possession</td>\n",
              "    </tr>\n",
              "    <tr>\n",
              "      <th>6716</th>\n",
              "      <td>2015</td>\n",
              "      <td>2018</td>\n",
              "      <td>White - Non-Hispanic</td>\n",
              "      <td>45-54</td>\n",
              "      <td>C Felony</td>\n",
              "      <td>Drug</td>\n",
              "      <td>Trafficking</td>\n",
              "      <td>Parole</td>\n",
              "      <td>No</td>\n",
              "      <td>1JD</td>\n",
              "      <td>Yes</td>\n",
              "      <td>Parole</td>\n",
              "      <td>1093</td>\n",
              "      <td>C Felony</td>\n",
              "      <td>Drug</td>\n",
              "      <td>Trafficking</td>\n",
              "    </tr>\n",
              "    <tr>\n",
              "      <th>6717</th>\n",
              "      <td>2015</td>\n",
              "      <td>2018</td>\n",
              "      <td>White - Non-Hispanic</td>\n",
              "      <td>25-34</td>\n",
              "      <td>D Felony</td>\n",
              "      <td>Public Order</td>\n",
              "      <td>Weapons</td>\n",
              "      <td>Parole</td>\n",
              "      <td>Yes</td>\n",
              "      <td>4JD</td>\n",
              "      <td>Yes</td>\n",
              "      <td>Parole</td>\n",
              "      <td>1095</td>\n",
              "      <td>D Felony</td>\n",
              "      <td>Drug</td>\n",
              "      <td>Drug Possession</td>\n",
              "    </tr>\n",
              "  </tbody>\n",
              "</table>\n",
              "<p>6718 rows × 16 columns</p>\n",
              "</div>"
            ],
            "text/plain": [
              "      Fiscal Year Released  ...  New Conviction Offense Sub Type\n",
              "0                     2010  ...                            Theft\n",
              "1                     2010  ...                            Theft\n",
              "2                     2010  ...                              OWI\n",
              "3                     2010  ...                          Robbery\n",
              "4                     2010  ...                          Alcohol\n",
              "...                    ...  ...                              ...\n",
              "6713                  2015  ...                      Trafficking\n",
              "6714                  2015  ...                          Assault\n",
              "6715                  2015  ...                  Drug Possession\n",
              "6716                  2015  ...                      Trafficking\n",
              "6717                  2015  ...                  Drug Possession\n",
              "\n",
              "[6718 rows x 16 columns]"
            ]
          },
          "metadata": {
            "tags": []
          },
          "execution_count": 120
        }
      ]
    },
    {
      "cell_type": "code",
      "metadata": {
        "id": "yHh0V6WnX1z4",
        "colab_type": "code",
        "outputId": "843a8345-ce49-422c-8f77-359109165437",
        "colab": {
          "base_uri": "https://localhost:8080/",
          "height": 517
        }
      },
      "source": [
        "# faire la jointure entre les 2 tables\n",
        "\n",
        "dataset = data2.join(data1, lsuffix='', rsuffix='_only')\n",
        "\n",
        "dataset.head(5)"
      ],
      "execution_count": 0,
      "outputs": [
        {
          "output_type": "execute_result",
          "data": {
            "text/html": [
              "<div>\n",
              "<style scoped>\n",
              "    .dataframe tbody tr th:only-of-type {\n",
              "        vertical-align: middle;\n",
              "    }\n",
              "\n",
              "    .dataframe tbody tr th {\n",
              "        vertical-align: top;\n",
              "    }\n",
              "\n",
              "    .dataframe thead th {\n",
              "        text-align: right;\n",
              "    }\n",
              "</style>\n",
              "<table border=\"1\" class=\"dataframe\">\n",
              "  <thead>\n",
              "    <tr style=\"text-align: right;\">\n",
              "      <th></th>\n",
              "      <th>Fiscal Year Released</th>\n",
              "      <th>Recidivism Reporting Year</th>\n",
              "      <th>Race - Ethnicity</th>\n",
              "      <th>Age At Release</th>\n",
              "      <th>Convicting Offense Classification</th>\n",
              "      <th>Convicting Offense Type</th>\n",
              "      <th>Convicting Offense Subtype</th>\n",
              "      <th>Release Type</th>\n",
              "      <th>Part of Target Population</th>\n",
              "      <th>Main Supervising District</th>\n",
              "      <th>Recidivism - Return to Prison</th>\n",
              "      <th>Release Type.1</th>\n",
              "      <th>Days to Recidivism</th>\n",
              "      <th>New Conviction Offense Classification</th>\n",
              "      <th>New Conviction Offense Type</th>\n",
              "      <th>New Conviction Offense Sub Type</th>\n",
              "      <th>Fiscal Year Released_only</th>\n",
              "      <th>Recidivism Reporting Year_only</th>\n",
              "      <th>Race - Ethnicity_only</th>\n",
              "      <th>Age At Release _only</th>\n",
              "      <th>Convicting Offense Classification_only</th>\n",
              "      <th>Convicting Offense Type_only</th>\n",
              "      <th>Main Supervising District_only</th>\n",
              "      <th>Release type: Paroled to Detainer united</th>\n",
              "      <th>Part of Target Population_only</th>\n",
              "      <th>Recidivism - Return to Prison numeric</th>\n",
              "    </tr>\n",
              "  </thead>\n",
              "  <tbody>\n",
              "    <tr>\n",
              "      <th>0</th>\n",
              "      <td>2010</td>\n",
              "      <td>2013</td>\n",
              "      <td>White - Non-Hispanic</td>\n",
              "      <td>45-54</td>\n",
              "      <td>Aggravated Misdemeanor</td>\n",
              "      <td>Public Order</td>\n",
              "      <td>Sex Offender Registry/Residency</td>\n",
              "      <td>Parole</td>\n",
              "      <td>Yes</td>\n",
              "      <td>3JD</td>\n",
              "      <td>Yes</td>\n",
              "      <td>Parole</td>\n",
              "      <td>28</td>\n",
              "      <td>D Felony</td>\n",
              "      <td>Property</td>\n",
              "      <td>Theft</td>\n",
              "      <td>2010</td>\n",
              "      <td>2013</td>\n",
              "      <td>White - Non-Hispanic</td>\n",
              "      <td>Under 25</td>\n",
              "      <td>D Felony</td>\n",
              "      <td>Violent</td>\n",
              "      <td>4JD</td>\n",
              "      <td>Parole</td>\n",
              "      <td>Yes</td>\n",
              "      <td>1</td>\n",
              "    </tr>\n",
              "    <tr>\n",
              "      <th>1</th>\n",
              "      <td>2010</td>\n",
              "      <td>2013</td>\n",
              "      <td>White - Non-Hispanic</td>\n",
              "      <td>Under 25</td>\n",
              "      <td>Aggravated Misdemeanor</td>\n",
              "      <td>Property</td>\n",
              "      <td>Theft</td>\n",
              "      <td>Discharged End of Sentence</td>\n",
              "      <td>No</td>\n",
              "      <td>NaN</td>\n",
              "      <td>Yes</td>\n",
              "      <td>Discharged End of Sentence</td>\n",
              "      <td>49</td>\n",
              "      <td>C Felony</td>\n",
              "      <td>Property</td>\n",
              "      <td>Theft</td>\n",
              "      <td>2010</td>\n",
              "      <td>2013</td>\n",
              "      <td>White - Non-Hispanic</td>\n",
              "      <td>55 and Older</td>\n",
              "      <td>D Felony</td>\n",
              "      <td>Public Order</td>\n",
              "      <td>7JD</td>\n",
              "      <td>Parole</td>\n",
              "      <td>Yes</td>\n",
              "      <td>1</td>\n",
              "    </tr>\n",
              "    <tr>\n",
              "      <th>2</th>\n",
              "      <td>2010</td>\n",
              "      <td>2013</td>\n",
              "      <td>White - Non-Hispanic</td>\n",
              "      <td>Under 25</td>\n",
              "      <td>D Felony</td>\n",
              "      <td>Drug</td>\n",
              "      <td>Trafficking</td>\n",
              "      <td>Parole</td>\n",
              "      <td>Yes</td>\n",
              "      <td>4JD</td>\n",
              "      <td>Yes</td>\n",
              "      <td>Parole</td>\n",
              "      <td>53</td>\n",
              "      <td>Aggravated Misdemeanor</td>\n",
              "      <td>Public Order</td>\n",
              "      <td>OWI</td>\n",
              "      <td>2010</td>\n",
              "      <td>2013</td>\n",
              "      <td>White - Non-Hispanic</td>\n",
              "      <td>25-34</td>\n",
              "      <td>D Felony</td>\n",
              "      <td>Property</td>\n",
              "      <td>5JD</td>\n",
              "      <td>Parole</td>\n",
              "      <td>Yes</td>\n",
              "      <td>1</td>\n",
              "    </tr>\n",
              "    <tr>\n",
              "      <th>3</th>\n",
              "      <td>2010</td>\n",
              "      <td>2013</td>\n",
              "      <td>American Indian or Alaska Native - Non-Hispanic</td>\n",
              "      <td>25-34</td>\n",
              "      <td>D Felony</td>\n",
              "      <td>Violent</td>\n",
              "      <td>Assault</td>\n",
              "      <td>Discharged End of Sentence</td>\n",
              "      <td>No</td>\n",
              "      <td>NaN</td>\n",
              "      <td>Yes</td>\n",
              "      <td>Discharged End of Sentence</td>\n",
              "      <td>57</td>\n",
              "      <td>C Felony</td>\n",
              "      <td>Violent</td>\n",
              "      <td>Robbery</td>\n",
              "      <td>2010</td>\n",
              "      <td>2013</td>\n",
              "      <td>White - Non-Hispanic</td>\n",
              "      <td>55 and Older</td>\n",
              "      <td>C Felony</td>\n",
              "      <td>Drug</td>\n",
              "      <td>8JD</td>\n",
              "      <td>Parole</td>\n",
              "      <td>Yes</td>\n",
              "      <td>1</td>\n",
              "    </tr>\n",
              "    <tr>\n",
              "      <th>4</th>\n",
              "      <td>2010</td>\n",
              "      <td>2013</td>\n",
              "      <td>White - Non-Hispanic</td>\n",
              "      <td>Under 25</td>\n",
              "      <td>D Felony</td>\n",
              "      <td>Property</td>\n",
              "      <td>Vandalism</td>\n",
              "      <td>Parole</td>\n",
              "      <td>Yes</td>\n",
              "      <td>2JD</td>\n",
              "      <td>Yes</td>\n",
              "      <td>Parole</td>\n",
              "      <td>58</td>\n",
              "      <td>Aggravated Misdemeanor</td>\n",
              "      <td>Public Order</td>\n",
              "      <td>Alcohol</td>\n",
              "      <td>2010</td>\n",
              "      <td>2013</td>\n",
              "      <td>Black - Non-Hispanic</td>\n",
              "      <td>25-34</td>\n",
              "      <td>D Felony</td>\n",
              "      <td>Drug</td>\n",
              "      <td>3JD</td>\n",
              "      <td>Parole</td>\n",
              "      <td>Yes</td>\n",
              "      <td>1</td>\n",
              "    </tr>\n",
              "  </tbody>\n",
              "</table>\n",
              "</div>"
            ],
            "text/plain": [
              "   Fiscal Year Released  ...  Recidivism - Return to Prison numeric\n",
              "0                  2010  ...                                      1\n",
              "1                  2010  ...                                      1\n",
              "2                  2010  ...                                      1\n",
              "3                  2010  ...                                      1\n",
              "4                  2010  ...                                      1\n",
              "\n",
              "[5 rows x 26 columns]"
            ]
          },
          "metadata": {
            "tags": []
          },
          "execution_count": 121
        }
      ]
    },
    {
      "cell_type": "code",
      "metadata": {
        "id": "W0kfUceEF0nu",
        "colab_type": "code",
        "outputId": "2d667f9e-89c1-4c00-8766-c92db9ffbb3a",
        "colab": {
          "base_uri": "https://localhost:8080/",
          "height": 369
        }
      },
      "source": [
        "sns.catplot(x=\"Convicting Offense Type\", y=\"Recidivism - Return to Prison numeric\", data= dataset, kind=\"bar\")\n",
        "plt.show()"
      ],
      "execution_count": 0,
      "outputs": [
        {
          "output_type": "display_data",
          "data": {
            "image/png": "[encoded data removed]",
            "text/plain": [
              "<Figure size 360x360 with 1 Axes>"
            ]
          },
          "metadata": {
            "tags": []
          }
        }
      ]
    },
    {
      "cell_type": "code",
      "metadata": {
        "id": "RtMn_ABFF3pd",
        "colab_type": "code",
        "outputId": "dfdb7294-6edb-49ae-c7f2-351461b6d25b",
        "colab": {
          "base_uri": "https://localhost:8080/",
          "height": 369
        }
      },
      "source": [
        "sns.catplot(x=\"Convicting Offense Type_only\", y=\"Recidivism - Return to Prison numeric\", data= dataset, kind=\"bar\")\n",
        "plt.show()"
      ],
      "execution_count": 0,
      "outputs": [
        {
          "output_type": "display_data",
          "data": {
            "image/png": "[encoded data removed]",
            "text/plain": [
              "<Figure size 360x360 with 1 Axes>"
            ]
          },
          "metadata": {
            "tags": []
          }
        }
      ]
    },
    {
      "cell_type": "code",
      "metadata": {
        "id": "C1xFYcrVX1xT",
        "colab_type": "code",
        "colab": {}
      },
      "source": [
        "# l'ensemble des colonnes à selectionner\n",
        "column_list = data2.columns.to_list()\n",
        "column_list_add = ['Recidivism - Return to Prison numeric',\n",
        "                   'New Conviction Offense Classification',\n",
        "                   'New Conviction Offense Type',\n",
        "                   'New Conviction Offense Sub Type']\n",
        "column_list.extend(column_list_add)\n",
        "#selectionner l'ensemble des colonnes utiles\"\n",
        "dataset = dataset[column_list]"
      ],
      "execution_count": 0,
      "outputs": []
    },
    {
      "cell_type": "code",
      "metadata": {
        "id": "XgAN7LVcZ95H",
        "colab_type": "code",
        "outputId": "8f2d0519-0745-40f4-c90f-4dfa85c77b8c",
        "colab": {
          "base_uri": "https://localhost:8080/",
          "height": 33
        }
      },
      "source": [
        "dataset.shape"
      ],
      "execution_count": 0,
      "outputs": [
        {
          "output_type": "execute_result",
          "data": {
            "text/plain": [
              "(6718, 20)"
            ]
          },
          "metadata": {
            "tags": []
          },
          "execution_count": 94
        }
      ]
    },
    {
      "cell_type": "code",
      "metadata": {
        "id": "-DivO76tbPJv",
        "colab_type": "code",
        "colab": {}
      },
      "source": [
        "columns_pred = ['Days to Recidivism',\n",
        "                'Fiscal Year Released',\n",
        "                'Recidivism Reporting Year',\n",
        "                'Race - Ethnicity',\n",
        "                'Age At Release ' ,\n",
        "                'Convicting Offense Classification',\n",
        "                'Convicting Offense Type',\n",
        "                'Release Type',\n",
        "                'Recidivism - Return to Prison numeric']\n",
        "\n",
        "columns_list = {'Days to Recidivism' : 'Days_to_Recidivism',\n",
        "                'Fiscal Year Released' : 'Year_Released',\n",
        "                'Recidivism Reporting Year' : 'Recidivism_Year', \n",
        "                'Race - Ethnicity' : 'Race',\n",
        "                'Age At Release ' : 'Age',\n",
        "                'Convicting Offense Classification' : 'Convicting_class',\n",
        "                'Convicting Offense Type' : 'Convicting_Type',\n",
        "                'Release Type' : 'Release_Type',\n",
        "                'Recidivism - Return to Prison numeric' : 'Recidivism'}"
      ],
      "execution_count": 0,
      "outputs": []
    },
    {
      "cell_type": "code",
      "metadata": {
        "id": "9TQjsaeOodpP",
        "colab_type": "code",
        "outputId": "1a8c3b97-81c6-4df6-860b-72c63c16a99e",
        "colab": {
          "base_uri": "https://localhost:8080/",
          "height": 705
        }
      },
      "source": [
        "dataset[columns_pred]"
      ],
      "execution_count": 0,
      "outputs": [
        {
          "output_type": "execute_result",
          "data": {
            "text/html": [
              "<div>\n",
              "<style scoped>\n",
              "    .dataframe tbody tr th:only-of-type {\n",
              "        vertical-align: middle;\n",
              "    }\n",
              "\n",
              "    .dataframe tbody tr th {\n",
              "        vertical-align: top;\n",
              "    }\n",
              "\n",
              "    .dataframe thead th {\n",
              "        text-align: right;\n",
              "    }\n",
              "</style>\n",
              "<table border=\"1\" class=\"dataframe\">\n",
              "  <thead>\n",
              "    <tr style=\"text-align: right;\">\n",
              "      <th></th>\n",
              "      <th>Days to Recidivism</th>\n",
              "      <th>Fiscal Year Released</th>\n",
              "      <th>Recidivism Reporting Year</th>\n",
              "      <th>Race - Ethnicity</th>\n",
              "      <th>Age At Release</th>\n",
              "      <th>Convicting Offense Classification</th>\n",
              "      <th>Convicting Offense Type</th>\n",
              "      <th>Release Type</th>\n",
              "      <th>Recidivism - Return to Prison numeric</th>\n",
              "    </tr>\n",
              "  </thead>\n",
              "  <tbody>\n",
              "    <tr>\n",
              "      <th>0</th>\n",
              "      <td>28</td>\n",
              "      <td>2010</td>\n",
              "      <td>2013</td>\n",
              "      <td>White - Non-Hispanic</td>\n",
              "      <td>45-54</td>\n",
              "      <td>Aggravated Misdemeanor</td>\n",
              "      <td>Public Order</td>\n",
              "      <td>Parole</td>\n",
              "      <td>1</td>\n",
              "    </tr>\n",
              "    <tr>\n",
              "      <th>1</th>\n",
              "      <td>49</td>\n",
              "      <td>2010</td>\n",
              "      <td>2013</td>\n",
              "      <td>White - Non-Hispanic</td>\n",
              "      <td>Under 25</td>\n",
              "      <td>Aggravated Misdemeanor</td>\n",
              "      <td>Property</td>\n",
              "      <td>Discharged End of Sentence</td>\n",
              "      <td>1</td>\n",
              "    </tr>\n",
              "    <tr>\n",
              "      <th>2</th>\n",
              "      <td>53</td>\n",
              "      <td>2010</td>\n",
              "      <td>2013</td>\n",
              "      <td>White - Non-Hispanic</td>\n",
              "      <td>Under 25</td>\n",
              "      <td>D Felony</td>\n",
              "      <td>Drug</td>\n",
              "      <td>Parole</td>\n",
              "      <td>1</td>\n",
              "    </tr>\n",
              "    <tr>\n",
              "      <th>3</th>\n",
              "      <td>57</td>\n",
              "      <td>2010</td>\n",
              "      <td>2013</td>\n",
              "      <td>American Indian or Alaska Native - Non-Hispanic</td>\n",
              "      <td>25-34</td>\n",
              "      <td>D Felony</td>\n",
              "      <td>Violent</td>\n",
              "      <td>Discharged End of Sentence</td>\n",
              "      <td>1</td>\n",
              "    </tr>\n",
              "    <tr>\n",
              "      <th>4</th>\n",
              "      <td>58</td>\n",
              "      <td>2010</td>\n",
              "      <td>2013</td>\n",
              "      <td>White - Non-Hispanic</td>\n",
              "      <td>Under 25</td>\n",
              "      <td>D Felony</td>\n",
              "      <td>Property</td>\n",
              "      <td>Parole</td>\n",
              "      <td>1</td>\n",
              "    </tr>\n",
              "    <tr>\n",
              "      <th>...</th>\n",
              "      <td>...</td>\n",
              "      <td>...</td>\n",
              "      <td>...</td>\n",
              "      <td>...</td>\n",
              "      <td>...</td>\n",
              "      <td>...</td>\n",
              "      <td>...</td>\n",
              "      <td>...</td>\n",
              "      <td>...</td>\n",
              "    </tr>\n",
              "    <tr>\n",
              "      <th>6713</th>\n",
              "      <td>1088</td>\n",
              "      <td>2015</td>\n",
              "      <td>2018</td>\n",
              "      <td>White - Non-Hispanic</td>\n",
              "      <td>35-44</td>\n",
              "      <td>D Felony</td>\n",
              "      <td>Property</td>\n",
              "      <td>Discharged End of Sentence</td>\n",
              "      <td>0</td>\n",
              "    </tr>\n",
              "    <tr>\n",
              "      <th>6714</th>\n",
              "      <td>1091</td>\n",
              "      <td>2015</td>\n",
              "      <td>2018</td>\n",
              "      <td>Black - Non-Hispanic</td>\n",
              "      <td>Under 25</td>\n",
              "      <td>D Felony</td>\n",
              "      <td>Drug</td>\n",
              "      <td>Paroled to Detainer - Iowa</td>\n",
              "      <td>0</td>\n",
              "    </tr>\n",
              "    <tr>\n",
              "      <th>6715</th>\n",
              "      <td>1092</td>\n",
              "      <td>2015</td>\n",
              "      <td>2018</td>\n",
              "      <td>White - Non-Hispanic</td>\n",
              "      <td>45-54</td>\n",
              "      <td>D Felony</td>\n",
              "      <td>Property</td>\n",
              "      <td>Discharged End of Sentence</td>\n",
              "      <td>0</td>\n",
              "    </tr>\n",
              "    <tr>\n",
              "      <th>6716</th>\n",
              "      <td>1093</td>\n",
              "      <td>2015</td>\n",
              "      <td>2018</td>\n",
              "      <td>White - Non-Hispanic</td>\n",
              "      <td>45-54</td>\n",
              "      <td>C Felony</td>\n",
              "      <td>Drug</td>\n",
              "      <td>Parole</td>\n",
              "      <td>0</td>\n",
              "    </tr>\n",
              "    <tr>\n",
              "      <th>6717</th>\n",
              "      <td>1095</td>\n",
              "      <td>2015</td>\n",
              "      <td>2018</td>\n",
              "      <td>White - Non-Hispanic</td>\n",
              "      <td>25-34</td>\n",
              "      <td>D Felony</td>\n",
              "      <td>Public Order</td>\n",
              "      <td>Parole</td>\n",
              "      <td>0</td>\n",
              "    </tr>\n",
              "  </tbody>\n",
              "</table>\n",
              "<p>6718 rows × 9 columns</p>\n",
              "</div>"
            ],
            "text/plain": [
              "      Days to Recidivism  ...  Recidivism - Return to Prison numeric\n",
              "0                     28  ...                                      1\n",
              "1                     49  ...                                      1\n",
              "2                     53  ...                                      1\n",
              "3                     57  ...                                      1\n",
              "4                     58  ...                                      1\n",
              "...                  ...  ...                                    ...\n",
              "6713                1088  ...                                      0\n",
              "6714                1091  ...                                      0\n",
              "6715                1092  ...                                      0\n",
              "6716                1093  ...                                      0\n",
              "6717                1095  ...                                      0\n",
              "\n",
              "[6718 rows x 9 columns]"
            ]
          },
          "metadata": {
            "tags": []
          },
          "execution_count": 96
        }
      ]
    },
    {
      "cell_type": "code",
      "metadata": {
        "id": "RoiX4CJPEFsr",
        "colab_type": "code",
        "outputId": "7d6463f8-05c5-4897-c05b-bf23707ac499",
        "colab": {
          "base_uri": "https://localhost:8080/",
          "height": 369
        }
      },
      "source": [
        "sns.catplot(x=\"Convicting Offense Type\", y=\"Recidivism - Return to Prison numeric\", data= dataset, kind=\"bar\")\n",
        "plt.show()"
      ],
      "execution_count": 0,
      "outputs": [
        {
          "output_type": "display_data",
          "data": {
            "image/png": "[encoded data removed]",
            "text/plain": [
              "<Figure size 360x360 with 1 Axes>"
            ]
          },
          "metadata": {
            "tags": []
          }
        }
      ]
    },
    {
      "cell_type": "code",
      "metadata": {
        "id": "dBDhtXXWX1oS",
        "colab_type": "code",
        "colab": {}
      },
      "source": [
        "data_pred = (dataset[columns_pred].rename(columns = columns_list))"
      ],
      "execution_count": 0,
      "outputs": []
    },
    {
      "cell_type": "code",
      "metadata": {
        "id": "N7VanBrKV3Yh",
        "colab_type": "code",
        "colab": {}
      },
      "source": [
        "data_pred = data_pred.T.groupby(level=0).first().T"
      ],
      "execution_count": 0,
      "outputs": []
    },
    {
      "cell_type": "code",
      "metadata": {
        "id": "8vEtdz1PtEXc",
        "colab_type": "code",
        "outputId": "8c09c026-f2d4-486b-b240-43bf2a3b2e76",
        "colab": {
          "base_uri": "https://localhost:8080/",
          "height": 434
        }
      },
      "source": [
        "data_pred.head()"
      ],
      "execution_count": 0,
      "outputs": [
        {
          "output_type": "execute_result",
          "data": {
            "text/html": [
              "<div>\n",
              "<style scoped>\n",
              "    .dataframe tbody tr th:only-of-type {\n",
              "        vertical-align: middle;\n",
              "    }\n",
              "\n",
              "    .dataframe tbody tr th {\n",
              "        vertical-align: top;\n",
              "    }\n",
              "\n",
              "    .dataframe thead th {\n",
              "        text-align: right;\n",
              "    }\n",
              "</style>\n",
              "<table border=\"1\" class=\"dataframe\">\n",
              "  <thead>\n",
              "    <tr style=\"text-align: right;\">\n",
              "      <th></th>\n",
              "      <th>Age</th>\n",
              "      <th>Convicting_Type</th>\n",
              "      <th>Convicting_class</th>\n",
              "      <th>Days_to_Recidivism</th>\n",
              "      <th>Race</th>\n",
              "      <th>Recidivism</th>\n",
              "      <th>Recidivism_Year</th>\n",
              "      <th>Release_Type</th>\n",
              "      <th>Year_Released</th>\n",
              "    </tr>\n",
              "  </thead>\n",
              "  <tbody>\n",
              "    <tr>\n",
              "      <th>0</th>\n",
              "      <td>45-54</td>\n",
              "      <td>Public Order</td>\n",
              "      <td>Aggravated Misdemeanor</td>\n",
              "      <td>28</td>\n",
              "      <td>White - Non-Hispanic</td>\n",
              "      <td>1</td>\n",
              "      <td>2013</td>\n",
              "      <td>Parole</td>\n",
              "      <td>2010</td>\n",
              "    </tr>\n",
              "    <tr>\n",
              "      <th>1</th>\n",
              "      <td>Under 25</td>\n",
              "      <td>Property</td>\n",
              "      <td>Aggravated Misdemeanor</td>\n",
              "      <td>49</td>\n",
              "      <td>White - Non-Hispanic</td>\n",
              "      <td>1</td>\n",
              "      <td>2013</td>\n",
              "      <td>Discharged End of Sentence</td>\n",
              "      <td>2010</td>\n",
              "    </tr>\n",
              "    <tr>\n",
              "      <th>2</th>\n",
              "      <td>Under 25</td>\n",
              "      <td>Drug</td>\n",
              "      <td>D Felony</td>\n",
              "      <td>53</td>\n",
              "      <td>White - Non-Hispanic</td>\n",
              "      <td>1</td>\n",
              "      <td>2013</td>\n",
              "      <td>Parole</td>\n",
              "      <td>2010</td>\n",
              "    </tr>\n",
              "    <tr>\n",
              "      <th>3</th>\n",
              "      <td>25-34</td>\n",
              "      <td>Violent</td>\n",
              "      <td>D Felony</td>\n",
              "      <td>57</td>\n",
              "      <td>American Indian or Alaska Native - Non-Hispanic</td>\n",
              "      <td>1</td>\n",
              "      <td>2013</td>\n",
              "      <td>Discharged End of Sentence</td>\n",
              "      <td>2010</td>\n",
              "    </tr>\n",
              "    <tr>\n",
              "      <th>4</th>\n",
              "      <td>Under 25</td>\n",
              "      <td>Property</td>\n",
              "      <td>D Felony</td>\n",
              "      <td>58</td>\n",
              "      <td>White - Non-Hispanic</td>\n",
              "      <td>1</td>\n",
              "      <td>2013</td>\n",
              "      <td>Parole</td>\n",
              "      <td>2010</td>\n",
              "    </tr>\n",
              "  </tbody>\n",
              "</table>\n",
              "</div>"
            ],
            "text/plain": [
              "        Age Convicting_Type  ...                Release_Type Year_Released\n",
              "0     45-54    Public Order  ...                      Parole          2010\n",
              "1  Under 25        Property  ...  Discharged End of Sentence          2010\n",
              "2  Under 25            Drug  ...                      Parole          2010\n",
              "3     25-34         Violent  ...  Discharged End of Sentence          2010\n",
              "4  Under 25        Property  ...                      Parole          2010\n",
              "\n",
              "[5 rows x 9 columns]"
            ]
          },
          "metadata": {
            "tags": []
          },
          "execution_count": 99
        }
      ]
    },
    {
      "cell_type": "code",
      "metadata": {
        "id": "uVctSAASBS0B",
        "colab_type": "code",
        "colab": {}
      },
      "source": [
        "Recidive = data_pred.query('Recidivism == 1')\n",
        "no_recidive = data_pred.query('Recidivism == 0')"
      ],
      "execution_count": 0,
      "outputs": []
    },
    {
      "cell_type": "code",
      "metadata": {
        "id": "42rDOh27iz_u",
        "colab_type": "code",
        "colab": {}
      },
      "source": [
        "Taux_recidive = data_pred[\"Recidivism\"].mean()*100"
      ],
      "execution_count": 0,
      "outputs": []
    },
    {
      "cell_type": "code",
      "metadata": {
        "id": "qt3K0Y6YoTLj",
        "colab_type": "code",
        "outputId": "517dcd00-1a25-4c67-fb3f-f8045b54e160",
        "colab": {
          "base_uri": "https://localhost:8080/",
          "height": 33
        }
      },
      "source": [
        "Taux_recidive"
      ],
      "execution_count": 0,
      "outputs": [
        {
          "output_type": "execute_result",
          "data": {
            "text/plain": [
              "34.07264066686514"
            ]
          },
          "metadata": {
            "tags": []
          },
          "execution_count": 102
        }
      ]
    },
    {
      "cell_type": "markdown",
      "metadata": {
        "id": "2UcgA4-NbihH",
        "colab_type": "text"
      },
      "source": [
        "Traitement des valeurs manquantes"
      ]
    },
    {
      "cell_type": "code",
      "metadata": {
        "id": "FVvjLPzQbpZ3",
        "colab_type": "code",
        "outputId": "bc7ccacc-a7a7-482a-a89b-74baec2c417c",
        "colab": {
          "base_uri": "https://localhost:8080/",
          "height": 184
        }
      },
      "source": [
        "print(data_pred.isnull().sum())"
      ],
      "execution_count": 0,
      "outputs": [
        {
          "output_type": "stream",
          "text": [
            "Age                     0\n",
            "Convicting_Type         0\n",
            "Convicting_class        0\n",
            "Days_to_Recidivism      0\n",
            "Race                    0\n",
            "Recidivism              0\n",
            "Recidivism_Year         0\n",
            "Release_Type          350\n",
            "Year_Released           0\n",
            "dtype: int64\n"
          ],
          "name": "stdout"
        }
      ]
    },
    {
      "cell_type": "code",
      "metadata": {
        "id": "jzWwPXOcbqjn",
        "colab_type": "code",
        "colab": {}
      },
      "source": [
        "data_pred['Release_Type'].fillna(0, inplace=True)"
      ],
      "execution_count": 0,
      "outputs": []
    },
    {
      "cell_type": "markdown",
      "metadata": {
        "id": "1KDo60HmPlbn",
        "colab_type": "text"
      },
      "source": [
        "Dummification"
      ]
    },
    {
      "cell_type": "code",
      "metadata": {
        "id": "8ovO2fvKPUJo",
        "colab_type": "code",
        "colab": {}
      },
      "source": [
        "def transf_to_dommies(column):\n",
        "\n",
        "    dictionnaire = {}\n",
        "\n",
        "    liste_val  = list(set(column))\n",
        "\n",
        "    i=0\n",
        "\n",
        "    for elt in liste_val:\n",
        "\n",
        "        dictionnaire[elt] = i\n",
        "\n",
        "        i = i+1\n",
        "\n",
        "    dommies = column.map(dictionnaire)\n",
        "\n",
        "    return dommies"
      ],
      "execution_count": 0,
      "outputs": []
    },
    {
      "cell_type": "code",
      "metadata": {
        "id": "jRmX8cgSPWcr",
        "colab_type": "code",
        "colab": {}
      },
      "source": [
        "data_pred['Convicting_Type'] = transf_to_dommies(data_pred.Convicting_Type)\n",
        "data_pred['Release_Type'] = transf_to_dommies(data_pred.Release_Type)\n",
        "data_pred['Race'] = transf_to_dommies(data_pred.Race)\n",
        "data_pred['Age'] = transf_to_dommies(data_pred.Age)\n",
        "data_pred['Convicting_class'] = transf_to_dommies(data_pred.Convicting_class)"
      ],
      "execution_count": 0,
      "outputs": []
    },
    {
      "cell_type": "code",
      "metadata": {
        "id": "mYB7aGCPP1i-",
        "colab_type": "code",
        "outputId": "fe762698-6eeb-4776-fe82-e81efcda8005",
        "colab": {
          "base_uri": "https://localhost:8080/",
          "height": 424
        }
      },
      "source": [
        "data_pred"
      ],
      "execution_count": 0,
      "outputs": [
        {
          "output_type": "execute_result",
          "data": {
            "text/html": [
              "<div>\n",
              "<style scoped>\n",
              "    .dataframe tbody tr th:only-of-type {\n",
              "        vertical-align: middle;\n",
              "    }\n",
              "\n",
              "    .dataframe tbody tr th {\n",
              "        vertical-align: top;\n",
              "    }\n",
              "\n",
              "    .dataframe thead th {\n",
              "        text-align: right;\n",
              "    }\n",
              "</style>\n",
              "<table border=\"1\" class=\"dataframe\">\n",
              "  <thead>\n",
              "    <tr style=\"text-align: right;\">\n",
              "      <th></th>\n",
              "      <th>Age</th>\n",
              "      <th>Convicting_Type</th>\n",
              "      <th>Convicting_class</th>\n",
              "      <th>Days_to_Recidivism</th>\n",
              "      <th>Race</th>\n",
              "      <th>Recidivism</th>\n",
              "      <th>Recidivism_Year</th>\n",
              "      <th>Release_Type</th>\n",
              "      <th>Year_Released</th>\n",
              "    </tr>\n",
              "  </thead>\n",
              "  <tbody>\n",
              "    <tr>\n",
              "      <th>0</th>\n",
              "      <td>3</td>\n",
              "      <td>3</td>\n",
              "      <td>7</td>\n",
              "      <td>28</td>\n",
              "      <td>6</td>\n",
              "      <td>1</td>\n",
              "      <td>2013</td>\n",
              "      <td>5</td>\n",
              "      <td>2010</td>\n",
              "    </tr>\n",
              "    <tr>\n",
              "      <th>1</th>\n",
              "      <td>2</td>\n",
              "      <td>4</td>\n",
              "      <td>7</td>\n",
              "      <td>49</td>\n",
              "      <td>6</td>\n",
              "      <td>1</td>\n",
              "      <td>2013</td>\n",
              "      <td>0</td>\n",
              "      <td>2010</td>\n",
              "    </tr>\n",
              "    <tr>\n",
              "      <th>2</th>\n",
              "      <td>2</td>\n",
              "      <td>2</td>\n",
              "      <td>6</td>\n",
              "      <td>53</td>\n",
              "      <td>6</td>\n",
              "      <td>1</td>\n",
              "      <td>2013</td>\n",
              "      <td>5</td>\n",
              "      <td>2010</td>\n",
              "    </tr>\n",
              "    <tr>\n",
              "      <th>3</th>\n",
              "      <td>4</td>\n",
              "      <td>0</td>\n",
              "      <td>6</td>\n",
              "      <td>57</td>\n",
              "      <td>4</td>\n",
              "      <td>1</td>\n",
              "      <td>2013</td>\n",
              "      <td>0</td>\n",
              "      <td>2010</td>\n",
              "    </tr>\n",
              "    <tr>\n",
              "      <th>4</th>\n",
              "      <td>2</td>\n",
              "      <td>4</td>\n",
              "      <td>6</td>\n",
              "      <td>58</td>\n",
              "      <td>6</td>\n",
              "      <td>1</td>\n",
              "      <td>2013</td>\n",
              "      <td>5</td>\n",
              "      <td>2010</td>\n",
              "    </tr>\n",
              "    <tr>\n",
              "      <th>...</th>\n",
              "      <td>...</td>\n",
              "      <td>...</td>\n",
              "      <td>...</td>\n",
              "      <td>...</td>\n",
              "      <td>...</td>\n",
              "      <td>...</td>\n",
              "      <td>...</td>\n",
              "      <td>...</td>\n",
              "      <td>...</td>\n",
              "    </tr>\n",
              "    <tr>\n",
              "      <th>6713</th>\n",
              "      <td>0</td>\n",
              "      <td>4</td>\n",
              "      <td>6</td>\n",
              "      <td>1088</td>\n",
              "      <td>6</td>\n",
              "      <td>0</td>\n",
              "      <td>2018</td>\n",
              "      <td>0</td>\n",
              "      <td>2015</td>\n",
              "    </tr>\n",
              "    <tr>\n",
              "      <th>6714</th>\n",
              "      <td>2</td>\n",
              "      <td>2</td>\n",
              "      <td>6</td>\n",
              "      <td>1091</td>\n",
              "      <td>3</td>\n",
              "      <td>0</td>\n",
              "      <td>2018</td>\n",
              "      <td>6</td>\n",
              "      <td>2015</td>\n",
              "    </tr>\n",
              "    <tr>\n",
              "      <th>6715</th>\n",
              "      <td>3</td>\n",
              "      <td>4</td>\n",
              "      <td>6</td>\n",
              "      <td>1092</td>\n",
              "      <td>6</td>\n",
              "      <td>0</td>\n",
              "      <td>2018</td>\n",
              "      <td>0</td>\n",
              "      <td>2015</td>\n",
              "    </tr>\n",
              "    <tr>\n",
              "      <th>6716</th>\n",
              "      <td>3</td>\n",
              "      <td>2</td>\n",
              "      <td>5</td>\n",
              "      <td>1093</td>\n",
              "      <td>6</td>\n",
              "      <td>0</td>\n",
              "      <td>2018</td>\n",
              "      <td>5</td>\n",
              "      <td>2015</td>\n",
              "    </tr>\n",
              "    <tr>\n",
              "      <th>6717</th>\n",
              "      <td>4</td>\n",
              "      <td>3</td>\n",
              "      <td>6</td>\n",
              "      <td>1095</td>\n",
              "      <td>6</td>\n",
              "      <td>0</td>\n",
              "      <td>2018</td>\n",
              "      <td>5</td>\n",
              "      <td>2015</td>\n",
              "    </tr>\n",
              "  </tbody>\n",
              "</table>\n",
              "<p>6718 rows × 9 columns</p>\n",
              "</div>"
            ],
            "text/plain": [
              "      Age  Convicting_Type  ...  Release_Type Year_Released\n",
              "0       3                3  ...             5          2010\n",
              "1       2                4  ...             0          2010\n",
              "2       2                2  ...             5          2010\n",
              "3       4                0  ...             0          2010\n",
              "4       2                4  ...             5          2010\n",
              "...   ...              ...  ...           ...           ...\n",
              "6713    0                4  ...             0          2015\n",
              "6714    2                2  ...             6          2015\n",
              "6715    3                4  ...             0          2015\n",
              "6716    3                2  ...             5          2015\n",
              "6717    4                3  ...             5          2015\n",
              "\n",
              "[6718 rows x 9 columns]"
            ]
          },
          "metadata": {
            "tags": []
          },
          "execution_count": 107
        }
      ]
    },
    {
      "cell_type": "markdown",
      "metadata": {
        "id": "bomEe4cIPuZd",
        "colab_type": "text"
      },
      "source": [
        "On coupe le dataset en deux. X comprenant les variables explicatives et y contenant la variable cible"
      ]
    },
    {
      "cell_type": "code",
      "metadata": {
        "id": "8P2bHJjfx8gn",
        "colab_type": "code",
        "colab": {}
      },
      "source": [
        "X = data_pred.iloc[:, :-1]\n",
        "y = data_pred.iloc[:, -1:]"
      ],
      "execution_count": 0,
      "outputs": []
    },
    {
      "cell_type": "code",
      "metadata": {
        "id": "e7mHZa1ef94S",
        "colab_type": "code",
        "colab": {}
      },
      "source": [
        "data_pred.dropna(axis = 0, inplace = True)"
      ],
      "execution_count": 0,
      "outputs": []
    },
    {
      "cell_type": "markdown",
      "metadata": {
        "id": "mT8JFYwpze7x",
        "colab_type": "text"
      },
      "source": [
        "### On transforme l'echantillon en X_train et en y_train"
      ]
    },
    {
      "cell_type": "code",
      "metadata": {
        "id": "5LIo9O98xmmW",
        "colab_type": "code",
        "colab": {}
      },
      "source": [
        "from sklearn.model_selection import train_test_split\n",
        "X_train, X_test, y_train, y_test = train_test_split(X, y, test_size = 0.2, random_state = 0, stratify=y)"
      ],
      "execution_count": 0,
      "outputs": []
    },
    {
      "cell_type": "markdown",
      "metadata": {
        "id": "cLHyoPiczGCh",
        "colab_type": "text"
      },
      "source": [
        "### Normalisation "
      ]
    },
    {
      "cell_type": "code",
      "metadata": {
        "id": "BGMpFUW8erqN",
        "colab_type": "code",
        "colab": {}
      },
      "source": [
        "from sklearn.preprocessing import StandardScaler\n",
        "sc = StandardScaler() # on instancie l'objet modele de normalisation\n",
        "\n",
        "X_train = sc.fit_transform(X_train) # on applique la normalisation sc_X fittee a l'echantillon X_train\n",
        "X_test = sc.transform(X_test)"
      ],
      "execution_count": 0,
      "outputs": []
    },
    {
      "cell_type": "markdown",
      "metadata": {
        "id": "4mPOZcl50FYF",
        "colab_type": "text"
      },
      "source": [
        "##MODELES"
      ]
    },
    {
      "cell_type": "markdown",
      "metadata": {
        "id": "WplcCHXWFrm_",
        "colab_type": "text"
      },
      "source": [
        "## Regression logistique"
      ]
    },
    {
      "cell_type": "code",
      "metadata": {
        "id": "HJYmlWAfzbCO",
        "colab_type": "code",
        "colab": {}
      },
      "source": [
        "# Initiate the LR model with random hyperparameters\n",
        "from sklearn.linear_model import LogisticRegression\n",
        "lr = LogisticRegression(penalty='l1',dual=False,max_iter=110)"
      ],
      "execution_count": 0,
      "outputs": []
    },
    {
      "cell_type": "code",
      "metadata": {
        "id": "GGMKsgNe0aaw",
        "colab_type": "code",
        "outputId": "4dda736c-6a29-4879-f415-e0d876d02acf",
        "colab": {
          "base_uri": "https://localhost:8080/",
          "height": 187
        }
      },
      "source": [
        "lr.fit(X_train ,y_train)"
      ],
      "execution_count": 0,
      "outputs": [
        {
          "output_type": "stream",
          "text": [
            "/usr/local/lib/python3.6/dist-packages/sklearn/linear_model/logistic.py:432: FutureWarning: Default solver will be changed to 'lbfgs' in 0.22. Specify a solver to silence this warning.\n",
            "  FutureWarning)\n",
            "/usr/local/lib/python3.6/dist-packages/sklearn/utils/validation.py:724: DataConversionWarning: A column-vector y was passed when a 1d array was expected. Please change the shape of y to (n_samples, ), for example using ravel().\n",
            "  y = column_or_1d(y, warn=True)\n"
          ],
          "name": "stderr"
        },
        {
          "output_type": "execute_result",
          "data": {
            "text/plain": [
              "LogisticRegression(C=1.0, class_weight=None, dual=False, fit_intercept=True,\n",
              "                   intercept_scaling=1, l1_ratio=None, max_iter=110,\n",
              "                   multi_class='warn', n_jobs=None, penalty='l1',\n",
              "                   random_state=None, solver='warn', tol=0.0001, verbose=0,\n",
              "                   warm_start=False)"
            ]
          },
          "metadata": {
            "tags": []
          },
          "execution_count": 51
        }
      ]
    },
    {
      "cell_type": "code",
      "metadata": {
        "id": "bOOQefCTekrx",
        "colab_type": "code",
        "outputId": "4bb0a204-cca1-4f3b-92c1-a8274b6acd5d",
        "colab": {
          "base_uri": "https://localhost:8080/",
          "height": 33
        }
      },
      "source": [
        "lr.score(X_train, y_train)"
      ],
      "execution_count": 0,
      "outputs": [
        {
          "output_type": "execute_result",
          "data": {
            "text/plain": [
              "0.7681429103088947"
            ]
          },
          "metadata": {
            "tags": []
          },
          "execution_count": 52
        }
      ]
    },
    {
      "cell_type": "code",
      "metadata": {
        "id": "bmSlWJZd1WQu",
        "colab_type": "code",
        "outputId": "e857f4a3-bf5d-4133-8e16-4d9e75f91564",
        "colab": {
          "base_uri": "https://localhost:8080/",
          "height": 33
        }
      },
      "source": [
        "print(\"Logistic Regression score : {}\".format(lr.score(X_test, y_test)))"
      ],
      "execution_count": 0,
      "outputs": [
        {
          "output_type": "stream",
          "text": [
            "Logistic Regression score : 0.7544642857142857\n"
          ],
          "name": "stdout"
        }
      ]
    },
    {
      "cell_type": "markdown",
      "metadata": {
        "id": "8YWJI6LsdpTj",
        "colab_type": "text"
      },
      "source": [
        "C'est nécessaire de valider la stabilité de notre modèle. On ne peut tout simplement pas adapter le modèle à nos données d'entraînement et espérez qu'il fonctionnera avec précision pour les données réelles qu'il n'a jamais vues auparavant. On a besoin d'une sorte d'assurance c'est pour cela on utlise la cross validation. "
      ]
    },
    {
      "cell_type": "code",
      "metadata": {
        "id": "Rx-DihiJet1M",
        "colab_type": "code",
        "colab": {}
      },
      "source": [
        "from sklearn.model_selection import cross_val_score"
      ],
      "execution_count": 0,
      "outputs": []
    },
    {
      "cell_type": "markdown",
      "metadata": {
        "id": "MLu60sGRaevy",
        "colab_type": "text"
      },
      "source": [
        "cross validation "
      ]
    },
    {
      "cell_type": "code",
      "metadata": {
        "id": "4N5eqW1Eaksw",
        "colab_type": "code",
        "colab": {}
      },
      "source": [
        "# Cross validation\n",
        "\n",
        "from sklearn.model_selection import KFold\n",
        "from sklearn.model_selection import cross_val_score"
      ],
      "execution_count": 0,
      "outputs": []
    },
    {
      "cell_type": "code",
      "metadata": {
        "id": "LMugRVewapsk",
        "colab_type": "code",
        "outputId": "73dd6d02-a258-4431-f8b5-f6c5be549c96",
        "colab": {
          "base_uri": "https://localhost:8080/",
          "height": 254
        }
      },
      "source": [
        "kfold = KFold(n_splits=3, random_state=7)\n",
        "result = cross_val_score(lr, X_test, y_test, cv=kfold, scoring='accuracy')\n",
        "print(\"Le score après cross validation est {}\".format(result.mean()))"
      ],
      "execution_count": 0,
      "outputs": [
        {
          "output_type": "stream",
          "text": [
            "Le score après cross validation est 0.7477678571428571\n"
          ],
          "name": "stdout"
        },
        {
          "output_type": "stream",
          "text": [
            "/usr/local/lib/python3.6/dist-packages/sklearn/linear_model/logistic.py:432: FutureWarning: Default solver will be changed to 'lbfgs' in 0.22. Specify a solver to silence this warning.\n",
            "  FutureWarning)\n",
            "/usr/local/lib/python3.6/dist-packages/sklearn/utils/validation.py:724: DataConversionWarning: A column-vector y was passed when a 1d array was expected. Please change the shape of y to (n_samples, ), for example using ravel().\n",
            "  y = column_or_1d(y, warn=True)\n",
            "/usr/local/lib/python3.6/dist-packages/sklearn/linear_model/logistic.py:432: FutureWarning: Default solver will be changed to 'lbfgs' in 0.22. Specify a solver to silence this warning.\n",
            "  FutureWarning)\n",
            "/usr/local/lib/python3.6/dist-packages/sklearn/utils/validation.py:724: DataConversionWarning: A column-vector y was passed when a 1d array was expected. Please change the shape of y to (n_samples, ), for example using ravel().\n",
            "  y = column_or_1d(y, warn=True)\n",
            "/usr/local/lib/python3.6/dist-packages/sklearn/linear_model/logistic.py:432: FutureWarning: Default solver will be changed to 'lbfgs' in 0.22. Specify a solver to silence this warning.\n",
            "  FutureWarning)\n",
            "/usr/local/lib/python3.6/dist-packages/sklearn/utils/validation.py:724: DataConversionWarning: A column-vector y was passed when a 1d array was expected. Please change the shape of y to (n_samples, ), for example using ravel().\n",
            "  y = column_or_1d(y, warn=True)\n"
          ],
          "name": "stderr"
        }
      ]
    },
    {
      "cell_type": "code",
      "metadata": {
        "id": "0UaYBphMezmK",
        "colab_type": "code",
        "colab": {}
      },
      "source": [
        "y_pred = lr.predict(X_test)"
      ],
      "execution_count": 0,
      "outputs": []
    },
    {
      "cell_type": "code",
      "metadata": {
        "id": "Vz5MxfISe1DS",
        "colab_type": "code",
        "outputId": "c699386b-7709-4567-986e-6885fe4cf380",
        "colab": {
          "base_uri": "https://localhost:8080/",
          "height": 286
        }
      },
      "source": [
        "from sklearn.metrics import confusion_matrix\n",
        "cm = confusion_matrix(y_test, y_pred)\n",
        "sns.heatmap(cm, annot=True, fmt=\"d\")"
      ],
      "execution_count": 0,
      "outputs": [
        {
          "output_type": "execute_result",
          "data": {
            "text/plain": [
              "<matplotlib.axes._subplots.AxesSubplot at 0x7f631e573cf8>"
            ]
          },
          "metadata": {
            "tags": []
          },
          "execution_count": 58
        },
        {
          "output_type": "display_data",
          "data": {
            "image/png": "[encoded data removed]",
            "text/plain": [
              "<Figure size 432x288 with 2 Axes>"
            ]
          },
          "metadata": {
            "tags": []
          }
        }
      ]
    },
    {
      "cell_type": "code",
      "metadata": {
        "id": "rLmP0itBfHsV",
        "colab_type": "code",
        "outputId": "3dea7640-4fec-4f06-83ae-14aa0cdcd165",
        "colab": {
          "base_uri": "https://localhost:8080/",
          "height": 295
        }
      },
      "source": [
        "from sklearn.metrics import roc_auc_score\n",
        "from sklearn.metrics import roc_curve\n",
        "logit_roc_auc = roc_auc_score(y_test, lr.predict(X_test))\n",
        "fpr, tpr, thresholds = roc_curve(y_test, lr.predict_proba(X_test)[:,1])\n",
        "plt.figure()\n",
        "plt.plot(fpr, tpr, label='Regression logistique (area = %0.2f)' % logit_roc_auc)\n",
        "plt.plot([0, 1], [0, 1],'r--')\n",
        "plt.xlim([-0.05, 1.05])\n",
        "plt.ylim([-0.05, 1.05])\n",
        "plt.xlabel('Taux des Faux postifs')\n",
        "plt.ylabel('Taux des vrais Positifs')\n",
        "plt.title('ROC')\n",
        "plt.legend(loc=\"lower right\")\n",
        "plt.savefig('Log_ROC')\n",
        "plt.show()"
      ],
      "execution_count": 0,
      "outputs": [
        {
          "output_type": "display_data",
          "data": {
            "image/png": "[encoded data removed]",
            "text/plain": [
              "<Figure size 432x288 with 1 Axes>"
            ]
          },
          "metadata": {
            "tags": []
          }
        }
      ]
    },
    {
      "cell_type": "markdown",
      "metadata": {
        "id": "m7H3WKJeZXzZ",
        "colab_type": "text"
      },
      "source": [
        "## Random forest regressor"
      ]
    },
    {
      "cell_type": "code",
      "metadata": {
        "id": "mqGETDK9ZJbq",
        "colab_type": "code",
        "colab": {}
      },
      "source": [
        "from sklearn.ensemble import RandomForestClassifier"
      ],
      "execution_count": 0,
      "outputs": []
    },
    {
      "cell_type": "code",
      "metadata": {
        "id": "wDBCRs6ahvTz",
        "colab_type": "code",
        "outputId": "183ca820-0713-4ac2-9e2b-3c2bb5a27d7c",
        "colab": {
          "base_uri": "https://localhost:8080/",
          "height": 221
        }
      },
      "source": [
        "rf = RandomForestClassifier(class_weight = 'balanced')\n",
        "rf.fit(X_train, y_train)"
      ],
      "execution_count": 0,
      "outputs": [
        {
          "output_type": "stream",
          "text": [
            "/usr/local/lib/python3.6/dist-packages/sklearn/ensemble/forest.py:245: FutureWarning: The default value of n_estimators will change from 10 in version 0.20 to 100 in 0.22.\n",
            "  \"10 in version 0.20 to 100 in 0.22.\", FutureWarning)\n",
            "/usr/local/lib/python3.6/dist-packages/ipykernel_launcher.py:2: DataConversionWarning: A column-vector y was passed when a 1d array was expected. Please change the shape of y to (n_samples,), for example using ravel().\n",
            "  \n"
          ],
          "name": "stderr"
        },
        {
          "output_type": "execute_result",
          "data": {
            "text/plain": [
              "RandomForestClassifier(bootstrap=True, class_weight='balanced',\n",
              "                       criterion='gini', max_depth=None, max_features='auto',\n",
              "                       max_leaf_nodes=None, min_impurity_decrease=0.0,\n",
              "                       min_impurity_split=None, min_samples_leaf=1,\n",
              "                       min_samples_split=2, min_weight_fraction_leaf=0.0,\n",
              "                       n_estimators=10, n_jobs=None, oob_score=False,\n",
              "                       random_state=None, verbose=0, warm_start=False)"
            ]
          },
          "metadata": {
            "tags": []
          },
          "execution_count": 61
        }
      ]
    },
    {
      "cell_type": "code",
      "metadata": {
        "id": "hGyenDSih-43",
        "colab_type": "code",
        "colab": {}
      },
      "source": [
        "predictions = rf.predict(X_test)\n",
        "f1 = f1_score(y_test, predictions)\n",
        "recall = recall_score(y_test, predictions)\n",
        "accuracy = rf.score(X_test, y_test)"
      ],
      "execution_count": 0,
      "outputs": []
    },
    {
      "cell_type": "code",
      "metadata": {
        "id": "MMejx7VLiTZ1",
        "colab_type": "code",
        "outputId": "df5d8d67-9dea-4861-81f2-5212da39fd1d",
        "colab": {
          "base_uri": "https://localhost:8080/",
          "height": 33
        }
      },
      "source": [
        "f1"
      ],
      "execution_count": 0,
      "outputs": [
        {
          "output_type": "execute_result",
          "data": {
            "text/plain": [
              "0.9989094874591058"
            ]
          },
          "metadata": {
            "tags": []
          },
          "execution_count": 63
        }
      ]
    },
    {
      "cell_type": "code",
      "metadata": {
        "id": "wwFRbG-iiWG4",
        "colab_type": "code",
        "outputId": "a7ff4e2e-df24-40ed-f08d-04470d6cb684",
        "colab": {
          "base_uri": "https://localhost:8080/",
          "height": 33
        }
      },
      "source": [
        "recall"
      ],
      "execution_count": 0,
      "outputs": [
        {
          "output_type": "execute_result",
          "data": {
            "text/plain": [
              "1.0"
            ]
          },
          "metadata": {
            "tags": []
          },
          "execution_count": 64
        }
      ]
    },
    {
      "cell_type": "code",
      "metadata": {
        "id": "gjcojW5fiZHM",
        "colab_type": "code",
        "outputId": "5b493831-e490-430c-e1f6-c9e9a1f469af",
        "colab": {
          "base_uri": "https://localhost:8080/",
          "height": 33
        }
      },
      "source": [
        "accuracy"
      ],
      "execution_count": 0,
      "outputs": [
        {
          "output_type": "execute_result",
          "data": {
            "text/plain": [
              "0.9992559523809523"
            ]
          },
          "metadata": {
            "tags": []
          },
          "execution_count": 65
        }
      ]
    },
    {
      "cell_type": "markdown",
      "metadata": {
        "id": "WMFOCO3hcaz3",
        "colab_type": "text"
      },
      "source": [
        "## GridSearch"
      ]
    },
    {
      "cell_type": "code",
      "metadata": {
        "id": "1LnE2R5Ycehu",
        "colab_type": "code",
        "colab": {}
      },
      "source": [
        "from sklearn.model_selection import GridSearchCV\n",
        "dual=[True,False]\n",
        "max_iter=[100,110,120,130,140]\n",
        "param_grid = dict(dual=dual,max_iter=max_iter)"
      ],
      "execution_count": 0,
      "outputs": []
    },
    {
      "cell_type": "code",
      "metadata": {
        "id": "NhapzE4icqN1",
        "colab_type": "code",
        "outputId": "e8cec8f7-34c8-4eb2-eac8-cb7955b3b24c",
        "colab": {
          "base_uri": "https://localhost:8080/",
          "height": 170
        }
      },
      "source": [
        "import time\n",
        "\n",
        "lr = LogisticRegression(penalty='l2')\n",
        "grid = GridSearchCV(estimator=lr, param_grid=param_grid, cv = 3, n_jobs=-1)\n",
        "\n",
        "start_time = time.time()\n",
        "grid_result = grid.fit(X, y)\n",
        "# Summarize results\n",
        "print(\"Best: %f using %s\" % (grid_result.best_score_, grid_result.best_params_))\n",
        "print(\"Execution time: \" + str((time.time() - start_time)) + ' ms')"
      ],
      "execution_count": 0,
      "outputs": [
        {
          "output_type": "stream",
          "text": [
            "Best: 0.659274 using {'dual': True, 'max_iter': 130}\n",
            "Execution time: 3.9001290798187256 ms\n"
          ],
          "name": "stdout"
        },
        {
          "output_type": "stream",
          "text": [
            "/usr/local/lib/python3.6/dist-packages/sklearn/linear_model/logistic.py:432: FutureWarning: Default solver will be changed to 'lbfgs' in 0.22. Specify a solver to silence this warning.\n",
            "  FutureWarning)\n",
            "/usr/local/lib/python3.6/dist-packages/sklearn/utils/validation.py:724: DataConversionWarning: A column-vector y was passed when a 1d array was expected. Please change the shape of y to (n_samples, ), for example using ravel().\n",
            "  y = column_or_1d(y, warn=True)\n",
            "/usr/local/lib/python3.6/dist-packages/sklearn/svm/base.py:929: ConvergenceWarning: Liblinear failed to converge, increase the number of iterations.\n",
            "  \"the number of iterations.\", ConvergenceWarning)\n"
          ],
          "name": "stderr"
        }
      ]
    },
    {
      "cell_type": "code",
      "metadata": {
        "id": "cYqiymKTcwzV",
        "colab_type": "code",
        "colab": {}
      },
      "source": [
        "dual=[True,False]\n",
        "max_iter=[100,110,120,130,140]\n",
        "C = [1.0,1.5,2.0,2.5]\n",
        "param_grid = dict(dual=dual,max_iter=max_iter,C=C)"
      ],
      "execution_count": 0,
      "outputs": []
    },
    {
      "cell_type": "code",
      "metadata": {
        "id": "FHDnUOyofnFz",
        "colab_type": "code",
        "outputId": "64223154-4fe2-4f65-8c3b-42717052d831",
        "colab": {
          "base_uri": "https://localhost:8080/",
          "height": 170
        }
      },
      "source": [
        "lr = LogisticRegression(penalty='l2')\n",
        "grid = GridSearchCV(estimator=lr, param_grid=param_grid, cv = 3, n_jobs=-1)\n",
        "\n",
        "start_time = time.time()\n",
        "grid_result = grid.fit(X, y)\n",
        "# Summarize results\n",
        "print(\"Best: %f using %s\" % (grid_result.best_score_, grid_result.best_params_))\n",
        "print(\"Execution time: \" + str((time.time() - start_time)) + ' ms')"
      ],
      "execution_count": 0,
      "outputs": [
        {
          "output_type": "stream",
          "text": [
            "Best: 0.659274 using {'C': 2.0, 'dual': True, 'max_iter': 100}\n",
            "Execution time: 7.7661292552948 ms\n"
          ],
          "name": "stdout"
        },
        {
          "output_type": "stream",
          "text": [
            "/usr/local/lib/python3.6/dist-packages/sklearn/linear_model/logistic.py:432: FutureWarning: Default solver will be changed to 'lbfgs' in 0.22. Specify a solver to silence this warning.\n",
            "  FutureWarning)\n",
            "/usr/local/lib/python3.6/dist-packages/sklearn/utils/validation.py:724: DataConversionWarning: A column-vector y was passed when a 1d array was expected. Please change the shape of y to (n_samples, ), for example using ravel().\n",
            "  y = column_or_1d(y, warn=True)\n",
            "/usr/local/lib/python3.6/dist-packages/sklearn/svm/base.py:929: ConvergenceWarning: Liblinear failed to converge, increase the number of iterations.\n",
            "  \"the number of iterations.\", ConvergenceWarning)\n"
          ],
          "name": "stderr"
        }
      ]
    },
    {
      "cell_type": "code",
      "metadata": {
        "id": "i5SMK6llfr0a",
        "colab_type": "code",
        "colab": {}
      },
      "source": [
        "from sklearn.model_selection import RandomizedSearchCV"
      ],
      "execution_count": 0,
      "outputs": []
    },
    {
      "cell_type": "code",
      "metadata": {
        "id": "2mjNakyR9lvS",
        "colab_type": "code",
        "outputId": "a0c47829-ea8d-4b7c-f9e3-bf8c9df41a9b",
        "colab": {
          "base_uri": "https://localhost:8080/",
          "height": 170
        }
      },
      "source": [
        "random = RandomizedSearchCV(estimator=lr, param_distributions=param_grid, cv = 3, n_jobs=-1)\n",
        "\n",
        "start_time = time.time()\n",
        "random_result = random.fit(X, y)\n",
        "# Summarize results\n",
        "print(\"Best: %f using %s\" % (random_result.best_score_, random_result.best_params_))\n",
        "print(\"Execution time: \" + str((time.time() - start_time)) + 'ms')"
      ],
      "execution_count": 0,
      "outputs": [
        {
          "output_type": "stream",
          "text": [
            "Best: 0.659274 using {'max_iter': 100, 'dual': True, 'C': 1.0}\n",
            "Execution time: 3.6331546306610107ms\n"
          ],
          "name": "stdout"
        },
        {
          "output_type": "stream",
          "text": [
            "/usr/local/lib/python3.6/dist-packages/sklearn/linear_model/logistic.py:432: FutureWarning: Default solver will be changed to 'lbfgs' in 0.22. Specify a solver to silence this warning.\n",
            "  FutureWarning)\n",
            "/usr/local/lib/python3.6/dist-packages/sklearn/utils/validation.py:724: DataConversionWarning: A column-vector y was passed when a 1d array was expected. Please change the shape of y to (n_samples, ), for example using ravel().\n",
            "  y = column_or_1d(y, warn=True)\n",
            "/usr/local/lib/python3.6/dist-packages/sklearn/svm/base.py:929: ConvergenceWarning: Liblinear failed to converge, increase the number of iterations.\n",
            "  \"the number of iterations.\", ConvergenceWarning)\n"
          ],
          "name": "stderr"
        }
      ]
    },
    {
      "cell_type": "markdown",
      "metadata": {
        "id": "wGmf-DIH-1P0",
        "colab_type": "text"
      },
      "source": [
        "## Decision Tree"
      ]
    },
    {
      "cell_type": "code",
      "metadata": {
        "id": "n3HqwnHdZSad",
        "colab_type": "code",
        "outputId": "dde2ac7d-a6ea-415e-a592-e07d6c736187",
        "colab": {
          "base_uri": "https://localhost:8080/",
          "height": 117
        }
      },
      "source": [
        "from sklearn.tree import DecisionTreeClassifier\n",
        "classifier_gini = DecisionTreeClassifier(criterion=\"gini\", max_depth = 10) #min_sample_leaf = 20)\n",
        "classifier_gini.fit(X_train,y_train)"
      ],
      "execution_count": 0,
      "outputs": [
        {
          "output_type": "execute_result",
          "data": {
            "text/plain": [
              "DecisionTreeClassifier(class_weight=None, criterion='gini', max_depth=10,\n",
              "                       max_features=None, max_leaf_nodes=None,\n",
              "                       min_impurity_decrease=0.0, min_impurity_split=None,\n",
              "                       min_samples_leaf=1, min_samples_split=2,\n",
              "                       min_weight_fraction_leaf=0.0, presort=False,\n",
              "                       random_state=None, splitter='best')"
            ]
          },
          "metadata": {
            "tags": []
          },
          "execution_count": 73
        }
      ]
    },
    {
      "cell_type": "code",
      "metadata": {
        "id": "500nWHlV_-X8",
        "colab_type": "code",
        "outputId": "54fddc84-dd57-4dee-836e-8ddd7f3be062",
        "colab": {
          "base_uri": "https://localhost:8080/",
          "height": 33
        }
      },
      "source": [
        "classifier_gini.score(X_test, y_test)"
      ],
      "execution_count": 0,
      "outputs": [
        {
          "output_type": "execute_result",
          "data": {
            "text/plain": [
              "0.9992559523809523"
            ]
          },
          "metadata": {
            "tags": []
          },
          "execution_count": 74
        }
      ]
    },
    {
      "cell_type": "markdown",
      "metadata": {
        "id": "CyXON33mmJ4i",
        "colab_type": "text"
      },
      "source": [
        "## SVM"
      ]
    },
    {
      "cell_type": "code",
      "metadata": {
        "id": "TUd4FmFkmMJc",
        "colab_type": "code",
        "colab": {}
      },
      "source": [
        "from sklearn.svm import SVC\n",
        "svm = SVC(kernel='rbf', class_weight='balanced')"
      ],
      "execution_count": 0,
      "outputs": []
    },
    {
      "cell_type": "code",
      "metadata": {
        "id": "xnXgpk3CnIKw",
        "colab_type": "code",
        "outputId": "84c88f7c-4998-4992-f586-b60097cc02a2",
        "colab": {
          "base_uri": "https://localhost:8080/",
          "height": 137
        }
      },
      "source": [
        "svm.fit(X_train, y_train)"
      ],
      "execution_count": 0,
      "outputs": [
        {
          "output_type": "stream",
          "text": [
            "/usr/local/lib/python3.6/dist-packages/sklearn/utils/validation.py:724: DataConversionWarning: A column-vector y was passed when a 1d array was expected. Please change the shape of y to (n_samples, ), for example using ravel().\n",
            "  y = column_or_1d(y, warn=True)\n"
          ],
          "name": "stderr"
        },
        {
          "output_type": "execute_result",
          "data": {
            "text/plain": [
              "SVC(C=1.0, cache_size=200, class_weight='balanced', coef0=0.0,\n",
              "    decision_function_shape='ovr', degree=3, gamma='auto_deprecated',\n",
              "    kernel='rbf', max_iter=-1, probability=False, random_state=None,\n",
              "    shrinking=True, tol=0.001, verbose=False)"
            ]
          },
          "metadata": {
            "tags": []
          },
          "execution_count": 76
        }
      ]
    },
    {
      "cell_type": "code",
      "metadata": {
        "id": "HLAiKVBFnTRg",
        "colab_type": "code",
        "outputId": "d86b17f5-3c9e-48ae-e8e0-b29700bd7169",
        "colab": {
          "base_uri": "https://localhost:8080/",
          "height": 33
        }
      },
      "source": [
        "svm.score(X_train, y_train)"
      ],
      "execution_count": 0,
      "outputs": [
        {
          "output_type": "execute_result",
          "data": {
            "text/plain": [
              "0.9776702642352065"
            ]
          },
          "metadata": {
            "tags": []
          },
          "execution_count": 77
        }
      ]
    },
    {
      "cell_type": "code",
      "metadata": {
        "id": "gm6NsTIPnbly",
        "colab_type": "code",
        "outputId": "768fd4b4-3c7e-4598-a736-9726fb9c1e3e",
        "colab": {
          "base_uri": "https://localhost:8080/",
          "height": 33
        }
      },
      "source": [
        "svm.score(X_test, y_test)"
      ],
      "execution_count": 0,
      "outputs": [
        {
          "output_type": "execute_result",
          "data": {
            "text/plain": [
              "0.9717261904761905"
            ]
          },
          "metadata": {
            "tags": []
          },
          "execution_count": 78
        }
      ]
    },
    {
      "cell_type": "code",
      "metadata": {
        "id": "rzQ_gSF-ns5q",
        "colab_type": "code",
        "outputId": "769f1c37-bdd6-4e80-fe8e-c76c18e01b03",
        "colab": {
          "base_uri": "https://localhost:8080/",
          "height": 201
        }
      },
      "source": [
        "from sklearn.model_selection import GridSearchCV\n",
        "param_grid = {'C': [1, 5, 10, 50],\n",
        "              'gamma': [0.0001, 0.0005, 0.001, 0.005]}\n",
        "\n",
        "grid = GridSearchCV(svm, param_grid, verbose=2, n_jobs=-1)\n",
        "grid"
      ],
      "execution_count": 0,
      "outputs": [
        {
          "output_type": "execute_result",
          "data": {
            "text/plain": [
              "GridSearchCV(cv='warn', error_score='raise-deprecating',\n",
              "             estimator=SVC(C=1.0, cache_size=200, class_weight='balanced',\n",
              "                           coef0=0.0, decision_function_shape='ovr', degree=3,\n",
              "                           gamma='auto_deprecated', kernel='rbf', max_iter=-1,\n",
              "                           probability=False, random_state=None, shrinking=True,\n",
              "                           tol=0.001, verbose=False),\n",
              "             iid='warn', n_jobs=-1,\n",
              "             param_grid={'C': [1, 5, 10, 50],\n",
              "                         'gamma': [0.0001, 0.0005, 0.001, 0.005]},\n",
              "             pre_dispatch='2*n_jobs', refit=True, return_train_score=False,\n",
              "             scoring=None, verbose=2)"
            ]
          },
          "metadata": {
            "tags": []
          },
          "execution_count": 79
        }
      ]
    },
    {
      "cell_type": "code",
      "metadata": {
        "id": "E8IDpkHcnvEx",
        "colab_type": "code",
        "outputId": "1009523f-4cea-4a07-cdd7-eb0885ee044a",
        "colab": {
          "base_uri": "https://localhost:8080/",
          "height": 354
        }
      },
      "source": [
        "grid.fit(X_train, y_train)"
      ],
      "execution_count": 0,
      "outputs": [
        {
          "output_type": "stream",
          "text": [
            "Fitting 3 folds for each of 16 candidates, totalling 48 fits\n"
          ],
          "name": "stdout"
        },
        {
          "output_type": "stream",
          "text": [
            "/usr/local/lib/python3.6/dist-packages/sklearn/model_selection/_split.py:1978: FutureWarning: The default value of cv will change from 3 to 5 in version 0.22. Specify it explicitly to silence this warning.\n",
            "  warnings.warn(CV_WARNING, FutureWarning)\n",
            "[Parallel(n_jobs=-1)]: Using backend LokyBackend with 2 concurrent workers.\n",
            "[Parallel(n_jobs=-1)]: Done  37 tasks      | elapsed:   25.2s\n",
            "[Parallel(n_jobs=-1)]: Done  48 out of  48 | elapsed:   31.3s finished\n",
            "/usr/local/lib/python3.6/dist-packages/sklearn/utils/validation.py:724: DataConversionWarning: A column-vector y was passed when a 1d array was expected. Please change the shape of y to (n_samples, ), for example using ravel().\n",
            "  y = column_or_1d(y, warn=True)\n"
          ],
          "name": "stderr"
        },
        {
          "output_type": "execute_result",
          "data": {
            "text/plain": [
              "GridSearchCV(cv='warn', error_score='raise-deprecating',\n",
              "             estimator=SVC(C=1.0, cache_size=200, class_weight='balanced',\n",
              "                           coef0=0.0, decision_function_shape='ovr', degree=3,\n",
              "                           gamma='auto_deprecated', kernel='rbf', max_iter=-1,\n",
              "                           probability=False, random_state=None, shrinking=True,\n",
              "                           tol=0.001, verbose=False),\n",
              "             iid='warn', n_jobs=-1,\n",
              "             param_grid={'C': [1, 5, 10, 50],\n",
              "                         'gamma': [0.0001, 0.0005, 0.001, 0.005]},\n",
              "             pre_dispatch='2*n_jobs', refit=True, return_train_score=False,\n",
              "             scoring=None, verbose=2)"
            ]
          },
          "metadata": {
            "tags": []
          },
          "execution_count": 80
        }
      ]
    },
    {
      "cell_type": "code",
      "metadata": {
        "id": "Oj-ryS9Gn8OW",
        "colab_type": "code",
        "outputId": "37502e0a-361a-4a81-f341-5f6c57c4038e",
        "colab": {
          "base_uri": "https://localhost:8080/",
          "height": 33
        }
      },
      "source": [
        "print(grid.best_params_)"
      ],
      "execution_count": 0,
      "outputs": [
        {
          "output_type": "stream",
          "text": [
            "{'C': 50, 'gamma': 0.005}\n"
          ],
          "name": "stdout"
        }
      ]
    },
    {
      "cell_type": "code",
      "metadata": {
        "id": "7K5gH0PKoC-i",
        "colab_type": "code",
        "outputId": "548cc774-f630-417a-feaa-e3e2b34fc088",
        "colab": {
          "base_uri": "https://localhost:8080/",
          "height": 33
        }
      },
      "source": [
        "model = grid.best_estimator_\n",
        "model.score(X_test, y_test)"
      ],
      "execution_count": 0,
      "outputs": [
        {
          "output_type": "execute_result",
          "data": {
            "text/plain": [
              "0.7455357142857143"
            ]
          },
          "metadata": {
            "tags": []
          },
          "execution_count": 85
        }
      ]
    }
  ]
}